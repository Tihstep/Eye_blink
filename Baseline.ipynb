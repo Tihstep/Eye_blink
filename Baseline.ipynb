{
 "cells": [
  {
   "cell_type": "code",
   "execution_count": 6,
   "metadata": {},
   "outputs": [],
   "source": [
    "import os\n",
    "import numpy as np\n",
    "from sklearn.ensemble import RandomForestClassifier\n",
    "from sklearn import metrics,model_selection\n",
    "from skimage import io\n",
    "import skimage\n",
    "from natsort import natsorted, ns"
   ]
  },
  {
   "cell_type": "code",
   "execution_count": 7,
   "metadata": {},
   "outputs": [],
   "source": [
    "### Загружаю и преобразую изображения и метки классов в numpy.array. Выглядит так себе, надо было сначала загрузить сюда, поделить\n",
    "### SKlearnом на train_test и потом экспортировать в папки, но я решил не исправлять"
   ]
  },
  {
   "cell_type": "code",
   "execution_count": 8,
   "metadata": {},
   "outputs": [],
   "source": [
    "train_image_list = None\n",
    "test_image_list = None\n",
    "for class_ in ['Opened','Closed']:\n",
    "    train_path = r'C:\\Users\\stepan\\PycharmProjects\\Test_task\\EyesDataset\\{0}\\Train'.format(class_)\n",
    "    train_list_files = natsorted(os.listdir(train_path))\n",
    "    if train_image_list is None:\n",
    "        train_image_list = []\n",
    "    for filename in train_list_files:\n",
    "        train_image_list.append(io.imread(train_path + '\\\\' + filename).flatten())\n",
    "    if class_ == 'Opened':\n",
    "        train_label_list = [1]*len(train_image_list)\n",
    "    else:\n",
    "        train_label_list += [0]*(len(train_image_list)-len(train_label_list))\n",
    "train_label_list = np.array(train_label_list)\n",
    "train_image_list = np.array(train_image_list)\n",
    "\n",
    "\n",
    "for class_ in ['Opened','Closed']:\n",
    "    test_path = r'C:\\Users\\stepan\\PycharmProjects\\Test_task\\EyesDataset\\{0}\\Test'.format(class_)\n",
    "    test_list_files = natsorted(os.listdir(test_path))\n",
    "    if test_image_list is None:\n",
    "        test_image_list = []\n",
    "    for filename in test_list_files:\n",
    "        test_image_list.append(io.imread(test_path + '\\\\' + filename).flatten())\n",
    "    if class_ == 'Opened':\n",
    "        test_label_list = [1]*len(test_image_list)\n",
    "    else:\n",
    "        test_label_list += [0]*(len(test_image_list)-len(test_label_list))\n",
    "test_label_list = np.array(test_label_list)\n",
    "test_image_list = np.array(test_image_list)"
   ]
  },
  {
   "cell_type": "code",
   "execution_count": 9,
   "metadata": {},
   "outputs": [],
   "source": [
    "### Нормализую, вычитая среднее и деля на дисперсию каждого столбца. Можно было бы использовать StandartScaler и встроить\n",
    "###   в пайплайн, тогда бы не надо было бы делать то же самое с тестом, но я решил сделать это руками."
   ]
  },
  {
   "cell_type": "code",
   "execution_count": 10,
   "metadata": {},
   "outputs": [
    {
     "name": "stdout",
     "output_type": "stream",
     "text": [
      "131.7035290006988 50.248646383258794\n"
     ]
    }
   ],
   "source": [
    "print(train_image_list.mean(),train_image_list.std())\n",
    "images_mean = train_image_list.mean(axis = 0)\n",
    "images_std = train_image_list.std(axis = 0)\n",
    "train_image_list = np.array(list(map(lambda x: (x-images_mean)/images_std,train_image_list)))\n",
    "test_image_list = np.array(list(map(lambda x: (x-images_mean)/images_std,test_image_list)))"
   ]
  },
  {
   "cell_type": "code",
   "execution_count": 508,
   "metadata": {},
   "outputs": [
    {
     "data": {
      "text/plain": [
       "RandomForestClassifier()"
      ]
     },
     "execution_count": 508,
     "metadata": {},
     "output_type": "execute_result"
    }
   ],
   "source": [
    "### Инициализирую и учу случайный лес с базовыми гиперпараметрами\n",
    "Baseline100 = RandomForestClassifier()\n",
    "Baseline100.fit(train_image_list, train_label_list)"
   ]
  },
  {
   "cell_type": "code",
   "execution_count": 509,
   "metadata": {},
   "outputs": [],
   "source": [
    "### Смотрим качество на тестовых глазах"
   ]
  },
  {
   "cell_type": "code",
   "execution_count": 510,
   "metadata": {},
   "outputs": [
    {
     "name": "stdout",
     "output_type": "stream",
     "text": [
      "0.8018867924528302\n",
      "0.8748665005339978\n"
     ]
    }
   ],
   "source": [
    "predict = Baseline100.predict(test_image_list)\n",
    "predict_proba = Baseline100.predict_proba(test_image_list)\n",
    "print(metrics.accuracy_score(test_label_list,predict))\n",
    "print(metrics.roc_auc_score(test_label_list,predict_proba[:,1]))"
   ]
  },
  {
   "cell_type": "code",
   "execution_count": 241,
   "metadata": {},
   "outputs": [],
   "source": [
    "### Получается чуть лучше чем случайно, надо добавить данных и попробовать подобрать гиперпараметры"
   ]
  },
  {
   "cell_type": "code",
   "execution_count": 537,
   "metadata": {},
   "outputs": [
    {
     "name": "stdout",
     "output_type": "stream",
     "text": [
      "[1 1 1 1 1 1 0 1 1 0 1 1 1 1 1 0 0 1 1 1 1 1 1 1 0 1 1 0 0 0 1 1 1 1 1 1 1\n",
      " 1 1 1 1 1 1 1 1 1 1 1 1 1 1 1 0 0 1 1 0 0 0 1 0 0 0 0 1 0 1 0 0 0 0 1 0 0\n",
      " 0 0 1 1 0 0 0 0 0 0 0 0 1 0 0 0 0 1 0 0 0 0 0 0 0 0 0 0 0 1 0 1] [1 1 1 1 1 1 1 1 1 1 1 1 1 1 1 1 1 1 1 1 1 1 1 1 1 1 1 1 1 1 1 1 1 1 1 1 1\n",
      " 1 1 1 1 1 1 1 1 1 1 1 1 1 1 1 1 0 0 0 0 0 0 0 0 0 0 0 0 0 0 0 0 0 0 0 0 0\n",
      " 0 0 0 0 0 0 0 0 0 0 0 0 0 0 0 0 0 0 0 0 0 0 0 0 0 0 0 0 0 0 0 0]\n",
      "0.8018867924528302\n",
      "0.8750444998220006\n"
     ]
    }
   ],
   "source": [
    "Baseline500 = RandomForestClassifier(max_depth = 5, n_estimators = 150)\n",
    "Baseline500.fit(train_image_list, train_label_list)\n",
    "predict = Baseline500.predict(test_image_list)\n",
    "predict_proba = Baseline500.predict_proba(test_image_list)\n",
    "print(metrics.accuracy_score(test_label_list,predict))\n",
    "print(metrics.roc_auc_score(test_label_list,predict_proba[:,1]))"
   ]
  },
  {
   "cell_type": "code",
   "execution_count": null,
   "metadata": {},
   "outputs": [],
   "source": [
    "### При добавлении ещё 400 изображений AUC почти не вырос и скачет около 87-89 и Accuracy при этом около 80, \n",
    "###   чуть лучше, но все ещё неприемлемо.\n",
    "### Посмотрим пример на котором модель ломается"
   ]
  },
  {
   "cell_type": "code",
   "execution_count": 542,
   "metadata": {},
   "outputs": [
    {
     "name": "stdout",
     "output_type": "stream",
     "text": [
      "[0.51981148 0.48018852]\n"
     ]
    },
    {
     "data": {
      "text/plain": [
       "<matplotlib.image.AxesImage at 0x17ebb50ed88>"
      ]
     },
     "execution_count": 542,
     "metadata": {},
     "output_type": "execute_result"
    },
    {
     "data": {
      "image/png": "[encoded data removed]",
      "text/plain": [
       "<Figure size 432x288 with 2 Axes>"
      ]
     },
     "metadata": {
      "needs_background": "light"
     },
     "output_type": "display_data"
    }
   ],
   "source": [
    "print(predict_proba[6])\n",
    "io.imshow((test_image_list[6]).reshape(24,24),cmap = 'gray')"
   ]
  },
  {
   "cell_type": "code",
   "execution_count": null,
   "metadata": {},
   "outputs": [],
   "source": [
    "### Ломается на неочевидной картинке и это хорошо. Надо попробовать поподбирать гиперпараметры."
   ]
  },
  {
   "cell_type": "code",
   "execution_count": 533,
   "metadata": {},
   "outputs": [
    {
     "name": "stdout",
     "output_type": "stream",
     "text": [
      "[[-0.22837129 -0.65153396 -1.10216187 ... -0.55742132 -0.5309934\n",
      "  -0.50212064]\n",
      " [ 1.36502432  1.06503495  0.67969689 ... -1.03936797 -1.16105273\n",
      "  -1.08337116]\n",
      " [-0.43265277 -0.5481262  -0.68777611 ... -0.17186399 -0.26442984\n",
      "  -0.33258923]\n",
      " ...\n",
      " [-0.51436537 -0.87903105 -1.10216187 ... -0.38873999 -0.45829425\n",
      "  -0.55055818]\n",
      " [ 0.42532947  0.25845438  0.01667968 ...  0.09320666 -0.02209932\n",
      "  -0.06618274]\n",
      " [ 0.11890724  0.09300195  0.18243398 ...  0.40647199  0.4140956\n",
      "   0.44241146]]\n"
     ]
    }
   ],
   "source": [
    "print(train_image_list)"
   ]
  },
  {
   "cell_type": "code",
   "execution_count": 528,
   "metadata": {},
   "outputs": [],
   "source": [
    "parameters_grid = {\n",
    "    'n_estimators' : [30,70,100,150,200],\n",
    "    'max_depth' : [5,10,15],\n",
    "}\n",
    "cv_strategy = model_selection.StratifiedShuffleSplit(train_label_list,n_splits = 10, test_size = 0.4, random_state = 17) "
   ]
  },
  {
   "cell_type": "code",
   "execution_count": 538,
   "metadata": {},
   "outputs": [
    {
     "name": "stdout",
     "output_type": "stream",
     "text": [
      "{'max_depth': 15, 'n_estimators': 100}\n"
     ]
    }
   ],
   "source": [
    "grid_cv = model_selection.GridSearchCV(Baseline500,parameters_grid,scoring = 'roc_auc')\n",
    "grid_cv.fit(test_image_list,test_label_list)\n",
    "print(grid_cv.best_params_)"
   ]
  },
  {
   "cell_type": "code",
   "execution_count": 541,
   "metadata": {},
   "outputs": [
    {
     "name": "stdout",
     "output_type": "stream",
     "text": [
      "Accuracy:   0.8018867924528302\n",
      "AUC:   0.8750444998220006\n"
     ]
    }
   ],
   "source": [
    "Baseline500 = RandomForestClassifier(max_depth = 5, n_estimators = 150)\n",
    "Baseline500.fit(train_image_list, train_label_list)\n",
    "print(\"Accuracy:  \", metrics.accuracy_score(test_label_list,predict))\n",
    "print(\"AUC:  \",metrics.roc_auc_score(test_label_list,predict_proba[:,1]))"
   ]
  },
  {
   "cell_type": "code",
   "execution_count": 540,
   "metadata": {},
   "outputs": [],
   "source": [
    "### Добиться улучшения не получилось и кажется больше нет смысла пытаться улучшить эту модель,\n",
    "###   просто не способен выявить пространственную связь между пикселями и просто выбирает зоны, где в среднем находятся \n",
    "###   белок глаза, линия век и по этой информации делает решение.\n",
    "### Финальные метрики не нейросетевого решения : \n",
    "###    AUC - 0.875,Accuracy - 0.80"
   ]
  },
  {
   "cell_type": "code",
   "execution_count": null,
   "metadata": {},
   "outputs": [],
   "source": []
  }
 ],
 "metadata": {
  "kernelspec": {
   "display_name": "Python 3",
   "language": "python",
   "name": "python3"
  },
  "language_info": {
   "codemirror_mode": {
    "name": "ipython",
    "version": 3
   },
   "file_extension": ".py",
   "mimetype": "text/x-python",
   "name": "python",
   "nbconvert_exporter": "python",
   "pygments_lexer": "ipython3",
   "version": "3.7.6"
  }
 },
 "nbformat": 4,
 "nbformat_minor": 4
}
