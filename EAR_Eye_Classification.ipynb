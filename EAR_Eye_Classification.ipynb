{
 "cells": [
  {
   "cell_type": "code",
   "execution_count": 3,
   "metadata": {
    "colab": {
     "base_uri": "https://localhost:8080/"
    },
    "executionInfo": {
     "elapsed": 2790,
     "status": "ok",
     "timestamp": 1636530934551,
     "user": {
      "displayName": "Тихомиров Степан",
      "photoUrl": "https://lh3.googleusercontent.com/a-/AOh14GibeqMfKZ_ay-K6XFpA0h8gZ5jEDxId0mhnHcG3OQ=s64",
      "userId": "16626673966734884347"
     },
     "user_tz": -180
    },
    "id": "dAzzkBXAR9ec",
    "outputId": "1c593aea-b324-484f-bae7-869236994f49"
   },
   "outputs": [
    {
     "name": "stdout",
     "output_type": "stream",
     "text": [
      "Collecting torchmetrics\n",
      "  Using cached torchmetrics-0.6.0-py3-none-any.whl (329 kB)\n",
      "Requirement already satisfied: torch>=1.3.1 in /usr/local/lib/python3.7/dist-packages (from torchmetrics) (1.9.0+cu111)\n",
      "Requirement already satisfied: numpy>=1.17.2 in /usr/local/lib/python3.7/dist-packages (from torchmetrics) (1.19.5)\n",
      "Requirement already satisfied: packaging in /usr/local/lib/python3.7/dist-packages (from torchmetrics) (21.2)\n",
      "Requirement already satisfied: typing-extensions in /usr/local/lib/python3.7/dist-packages (from torch>=1.3.1->torchmetrics) (3.10.0.2)\n",
      "Requirement already satisfied: pyparsing<3,>=2.0.2 in /usr/local/lib/python3.7/dist-packages (from packaging->torchmetrics) (2.4.7)\n",
      "Installing collected packages: torchmetrics\n",
      "Successfully installed torchmetrics-0.6.0\n",
      "Requirement already satisfied: torchmetrics in /usr/local/lib/python3.7/dist-packages (0.6.0)\n",
      "Requirement already satisfied: packaging in /usr/local/lib/python3.7/dist-packages (from torchmetrics) (21.2)\n",
      "Requirement already satisfied: torch>=1.3.1 in /usr/local/lib/python3.7/dist-packages (from torchmetrics) (1.9.0+cu111)\n",
      "Requirement already satisfied: numpy>=1.17.2 in /usr/local/lib/python3.7/dist-packages (from torchmetrics) (1.19.5)\n",
      "Requirement already satisfied: typing-extensions in /usr/local/lib/python3.7/dist-packages (from torch>=1.3.1->torchmetrics) (3.10.0.2)\n",
      "Requirement already satisfied: pyparsing<3,>=2.0.2 in /usr/local/lib/python3.7/dist-packages (from packaging->torchmetrics) (2.4.7)\n"
     ]
    }
   ],
   "source": [
    "import os \n",
    "import torch\n",
    "import torchvision\n",
    "from torchvision import transforms,datasets\n",
    "import numpy as np\n",
    "from PIL import Image\n",
    "from matplotlib.pyplot import imshow\n",
    "from torch import nn,optim\n",
    "!pip install torchmetrics\n",
    "import torchmetrics\n",
    "from torch.utils.tensorboard import SummaryWriter\n",
    "from torch.utils.data import Dataset\n",
    "from scipy.spatial import distance as dist\n",
    "from sklearn.metrics import roc_auc_score,roc_curve,auc\n",
    "from matplotlib import pyplot as plt"
   ]
  },
  {
   "cell_type": "code",
   "execution_count": 4,
   "metadata": {
    "executionInfo": {
     "elapsed": 35,
     "status": "ok",
     "timestamp": 1636530934557,
     "user": {
      "displayName": "Тихомиров Степан",
      "photoUrl": "https://lh3.googleusercontent.com/a-/AOh14GibeqMfKZ_ay-K6XFpA0h8gZ5jEDxId0mhnHcG3OQ=s64",
      "userId": "16626673966734884347"
     },
     "user_tz": -180
    },
    "id": "GZc0MFyGMMhi"
   },
   "outputs": [],
   "source": [
    "# Импорт и подготовка разметки для открытых глаз  \n",
    "from xml.etree import ElementTree\n",
    "open_train_tree = ElementTree.parse(r'/content/drive/MyDrive/Eyes_test_case/Train_open.xml')\n",
    "open_train_root = open_train_tree.getroot()\n",
    "open_train_targets = []\n",
    "for i in np.arange(127,1,-1):\n",
    "  open_train_point = open_train_root[i][0].attrib['points'].replace(';', ',').split(',')\n",
    "  open_train_point.append(open_train_root[i].attrib['name'])\n",
    "  open_train_targets.append(open_train_point)\n"
   ]
  },
  {
   "cell_type": "code",
   "execution_count": 2,
   "metadata": {
    "executionInfo": {
     "elapsed": 457,
     "status": "ok",
     "timestamp": 1636530931786,
     "user": {
      "displayName": "Тихомиров Степан",
      "photoUrl": "https://lh3.googleusercontent.com/a-/AOh14GibeqMfKZ_ay-K6XFpA0h8gZ5jEDxId0mhnHcG3OQ=s64",
      "userId": "16626673966734884347"
     },
     "user_tz": -180
    },
    "id": "ROjmpy6kzVHe"
   },
   "outputs": [],
   "source": [
    "# Импорт и подготовка разметки для закрытых глаз  \n",
    "from xml.etree import ElementTree\n",
    "close_train_tree = ElementTree.parse(r'/content/drive/MyDrive/Eyes_test_case/Train_closed.xml')\n",
    "close_train_root = close_train_tree.getroot()\n",
    "close_train_targets = []\n",
    "for i in np.arange(127,1,-1):\n",
    "  close_train_point = close_train_root[i][0].attrib['points'].replace(';', ',').split(',')\n",
    "  close_train_point.append(close_train_root[i].attrib['name'])\n",
    "  close_train_targets.append(close_train_point)"
   ]
  },
  {
   "cell_type": "code",
   "execution_count": 5,
   "metadata": {
    "executionInfo": {
     "elapsed": 36,
     "status": "ok",
     "timestamp": 1636530934561,
     "user": {
      "displayName": "Тихомиров Степан",
      "photoUrl": "https://lh3.googleusercontent.com/a-/AOh14GibeqMfKZ_ay-K6XFpA0h8gZ5jEDxId0mhnHcG3OQ=s64",
      "userId": "16626673966734884347"
     },
     "user_tz": -180
    },
    "id": "3cLAo8XAXg97"
   },
   "outputs": [],
   "source": [
    "# Инициализация регрессора 6 пар координат - (x,y)  \n",
    "class Eye_CNN(nn.Module):\n",
    "    def __init__(self):\n",
    "        super(Eye_CNN, self).__init__()\n",
    "        self.feature = nn.Sequential(\n",
    "            nn.Conv2d(1, 64, kernel_size=(3, 3), stride=(1, 1), padding=(1, 1)),             #24x24\n",
    "            nn.BatchNorm2d(64, eps=1e-05, momentum=0.1, affine=True, track_running_stats=True),\n",
    "            nn.ReLU(inplace=True),\n",
    "            nn.Conv2d(64, 64, kernel_size=(3, 3), stride=(1, 1), padding= 0),                #22x22\n",
    "            nn.BatchNorm2d(64, eps=1e-05, momentum=0.1, affine=True, track_running_stats=True),\n",
    "            nn.ReLU(inplace=True),\n",
    "            nn.Conv2d(64, 128, kernel_size=(3, 3), stride=(1, 1), padding=0),                #20x20\n",
    "            nn.BatchNorm2d(128, eps=1e-05, momentum=0.1, affine=True, track_running_stats=True),\n",
    "            nn.ReLU(inplace=True),\n",
    "            nn.MaxPool2d(kernel_size=2, stride=2, padding=0, dilation=1, ceil_mode=False),   #10x10\n",
    "            nn.Conv2d(128, 256, kernel_size=(3, 3), stride=(1, 1), padding= 0),              #8x8\n",
    "            nn.BatchNorm2d(256, eps=1e-05, momentum=0.1, affine=True, track_running_stats=True),\n",
    "            nn.ReLU(inplace=True),\n",
    "            nn.MaxPool2d(kernel_size=2, stride=2, padding=0, dilation=1, ceil_mode=False),   #4x4\n",
    "            nn.Conv2d(256, 512, kernel_size=(3, 3), stride=(1, 1), padding=(1, 1)),          #4x4\n",
    "            nn.BatchNorm2d(512, eps=1e-05, momentum=0.1, affine=True, track_running_stats=True),\n",
    "            nn.ReLU(inplace=True),\n",
    "            nn.Conv2d(512, 512, kernel_size=(3, 3), stride=(1, 1), padding=(1, 1)),          #4x4\n",
    "            nn.BatchNorm2d(512, eps=1e-05, momentum=0.1, affine=True, track_running_stats=True),\n",
    "            nn.ReLU(inplace=True)\n",
    "           )\n",
    "        self.classifier = nn.Sequential(\n",
    "            nn.Flatten(),\n",
    "            nn.Linear(4*4*512, 1024),\n",
    "            nn.Dropout(p=0.5, inplace=False),\n",
    "            nn.ReLU(),\n",
    "            nn.Linear(1024, 128),\n",
    "            nn.Dropout(p=0.5, inplace=False),\n",
    "            nn.ReLU(),\n",
    "            nn.Linear(128, 12),\n",
    "        )\n",
    "\n",
    "    def forward(self, x):\n",
    "        x = self.feature(x)\n",
    "        coordinates = self.classifier(x)\n",
    "        return coordinates"
   ]
  },
  {
   "cell_type": "code",
   "execution_count": 6,
   "metadata": {
    "executionInfo": {
     "elapsed": 675,
     "status": "ok",
     "timestamp": 1636530935204,
     "user": {
      "displayName": "Тихомиров Степан",
      "photoUrl": "https://lh3.googleusercontent.com/a-/AOh14GibeqMfKZ_ay-K6XFpA0h8gZ5jEDxId0mhnHcG3OQ=s64",
      "userId": "16626673966734884347"
     },
     "user_tz": -180
    },
    "id": "gY_UdSxTYje0"
   },
   "outputs": [],
   "source": [
    "# Используем GPU, если имеется  \n",
    "if torch.cuda.is_available():\n",
    " device = torch.device(\"cuda\")\n",
    "else:\n",
    " device = torch.device(\"cpu\")\n",
    "model = Eye_CNN().to(device)"
   ]
  },
  {
   "cell_type": "code",
   "execution_count": 7,
   "metadata": {
    "executionInfo": {
     "elapsed": 19,
     "status": "ok",
     "timestamp": 1636530935207,
     "user": {
      "displayName": "Тихомиров Степан",
      "photoUrl": "https://lh3.googleusercontent.com/a-/AOh14GibeqMfKZ_ay-K6XFpA0h8gZ5jEDxId0mhnHcG3OQ=s64",
      "userId": "16626673966734884347"
     },
     "user_tz": -180
    },
    "id": "v2qeKBRHQ2DE"
   },
   "outputs": [],
   "source": [
    "# Приведение изображения в вид доступный для нейронной сети  \n",
    "transform = transforms.Compose([\n",
    " transforms.Grayscale(),\n",
    " transforms.ToTensor(),\n",
    " transforms.Normalize(mean = [131.70], std =  [50.24]),\n",
    " transforms.ConvertImageDtype(torch.float)\n",
    " ])"
   ]
  },
  {
   "cell_type": "code",
   "execution_count": 8,
   "metadata": {
    "executionInfo": {
     "elapsed": 12,
     "status": "ok",
     "timestamp": 1636530936980,
     "user": {
      "displayName": "Тихомиров Степан",
      "photoUrl": "https://lh3.googleusercontent.com/a-/AOh14GibeqMfKZ_ay-K6XFpA0h8gZ5jEDxId0mhnHcG3OQ=s64",
      "userId": "16626673966734884347"
     },
     "user_tz": -180
    },
    "id": "-UA7GdHBcfRQ"
   },
   "outputs": [],
   "source": [
    "\"\"\"Preparing own dataset.\n",
    "\n",
    "Keyword arguments:\n",
    "root -- Путь к размеченным изображениям \n",
    "annotations -- Объект с разметкой\n",
    "transform -- Паттерн преобразования\n",
    "\n",
    "\"\"\"\n",
    "class Eye_dataset(Dataset):\n",
    "  def __init__(self, root, annotations, transform = None):\n",
    "    self.annotations = annotations\n",
    "    self.root = root\n",
    "    self.transform = transform\n",
    "\n",
    "  def __len__(self):\n",
    "    return len(self.annotations)\n",
    "\n",
    "  def __getitem__(self,index):\n",
    "    img_path = os.path.join(self.root,self.annotations[index][12])\n",
    "    image = Image.open(img_path)\n",
    "    target = torch.tensor(list(map(float,self.annotations[index][0:12])))\n",
    "\n",
    "    if self.transform:\n",
    "      image = self.transform(image)\n",
    "    return (image,target)"
   ]
  },
  {
   "cell_type": "code",
   "execution_count": 9,
   "metadata": {
    "executionInfo": {
     "elapsed": 737,
     "status": "ok",
     "timestamp": 1636530939848,
     "user": {
      "displayName": "Тихомиров Степан",
      "photoUrl": "https://lh3.googleusercontent.com/a-/AOh14GibeqMfKZ_ay-K6XFpA0h8gZ5jEDxId0mhnHcG3OQ=s64",
      "userId": "16626673966734884347"
     },
     "user_tz": -180
    },
    "id": "dC3LPw1KY0Q7"
   },
   "outputs": [],
   "source": [
    "# Инициализация обучающего Dataloader'a  \n",
    "train_data_path = \"/content/drive/MyDrive/Eyes_test_case/Points_clf/Train/\"\n",
    "train_data = Eye_dataset(root=train_data_path, annotations = open_train_targets + close_train_targets, transform=transform)\n",
    "batch_size = 16\n",
    "train_data_loader = torch.utils.data.DataLoader(dataset = train_data, batch_size=batch_size,shuffle=True)"
   ]
  },
  {
   "cell_type": "code",
   "execution_count": 10,
   "metadata": {
    "executionInfo": {
     "elapsed": 8,
     "status": "ok",
     "timestamp": 1636530940277,
     "user": {
      "displayName": "Тихомиров Степан",
      "photoUrl": "https://lh3.googleusercontent.com/a-/AOh14GibeqMfKZ_ay-K6XFpA0h8gZ5jEDxId0mhnHcG3OQ=s64",
      "userId": "16626673966734884347"
     },
     "user_tz": -180
    },
    "id": "RsJuxChBSfGj"
   },
   "outputs": [],
   "source": [
    "# Задаем стратегию обновления весов и функцию потерь  \n",
    "loss_fn = torch.nn.MSELoss(reduction='mean')\n",
    "optimizer = optim.Adam(model.parameters(), lr=0.001)"
   ]
  },
  {
   "cell_type": "code",
   "execution_count": 11,
   "metadata": {
    "executionInfo": {
     "elapsed": 10,
     "status": "ok",
     "timestamp": 1636530940727,
     "user": {
      "displayName": "Тихомиров Степан",
      "photoUrl": "https://lh3.googleusercontent.com/a-/AOh14GibeqMfKZ_ay-K6XFpA0h8gZ5jEDxId0mhnHcG3OQ=s64",
      "userId": "16626673966734884347"
     },
     "user_tz": -180
    },
    "id": "O3ibNLxPipp8"
   },
   "outputs": [],
   "source": [
    "# Метрики подсчета качества  \n",
    "MSE = torchmetrics.MeanSquaredError()\n",
    "Test_acc = torchmetrics.Accuracy()"
   ]
  },
  {
   "cell_type": "code",
   "execution_count": 11,
   "metadata": {
    "colab": {
     "base_uri": "https://localhost:8080/",
     "height": 129
    },
    "executionInfo": {
     "elapsed": 20,
     "status": "error",
     "timestamp": 1636489193974,
     "user": {
      "displayName": "Тихомиров Степан",
      "photoUrl": "https://lh3.googleusercontent.com/a-/AOh14GibeqMfKZ_ay-K6XFpA0h8gZ5jEDxId0mhnHcG3OQ=s64",
      "userId": "16626673966734884347"
     },
     "user_tz": -180
    },
    "id": "aRzY7Xkvhyd_",
    "outputId": "7d5bb4d0-7a18-4037-9fbf-98fe01ed433d"
   },
   "outputs": [
    {
     "ename": "SyntaxError",
     "evalue": "ignored",
     "output_type": "error",
     "traceback": [
      "\u001b[0;36m  File \u001b[0;32m\"<ipython-input-11-31bfcb1183b9>\"\u001b[0;36m, line \u001b[0;32m3\u001b[0m\n\u001b[0;31m    load_ext tensorboard\u001b[0m\n\u001b[0m                       ^\u001b[0m\n\u001b[0;31mSyntaxError\u001b[0m\u001b[0;31m:\u001b[0m invalid syntax\n"
     ]
    }
   ],
   "source": [
    "# Подключаем Tensorboard, чтобы интерактивно наблюдать за обучением модели\n",
    "writer = SummaryWriter()\n",
    "load_ext tensorboard\n",
    "% tensorboard --logdir=/content/runs --port=6005"
   ]
  },
  {
   "cell_type": "code",
   "execution_count": null,
   "metadata": {
    "id": "nqW7muJeS-Rt"
   },
   "outputs": [],
   "source": [
    "# Обучение модели  \n",
    "epoch_MSE = []\n",
    "for epoch in range(2000):\n",
    "  for batch in train_data_loader:\n",
    "    inputs, target = batch\n",
    "    inputs.unsqueeze(0)\n",
    "    optimizer.zero_grad()\n",
    "    inputs = inputs.to(device)\n",
    "    target = target.to(device)\n",
    "    output = model(inputs)\n",
    "    target = target.to('cpu')\n",
    "    output = output.to('cpu')\n",
    "    mse = float(MSE(output, target))\n",
    "    epoch_MSE.append(mse)\n",
    "    loss = loss_fn(output, target)\n",
    "    loss.backward()\n",
    "    optimizer.step()\n",
    "  epoch_mse = np.array(epoch_MSE).mean()\n",
    "  print(f\"MSE on epoch : {epoch_mse}\")\n",
    "  writer.add_scalar('Epoch_MSE/train',epoch_mse)\n",
    "mse = MSE.compute()\n",
    "print(f\"MSE on all data: {mse}\")"
   ]
  },
  {
   "cell_type": "code",
   "execution_count": 12,
   "metadata": {
    "colab": {
     "base_uri": "https://localhost:8080/"
    },
    "executionInfo": {
     "elapsed": 3146,
     "status": "ok",
     "timestamp": 1636530949378,
     "user": {
      "displayName": "Тихомиров Степан",
      "photoUrl": "https://lh3.googleusercontent.com/a-/AOh14GibeqMfKZ_ay-K6XFpA0h8gZ5jEDxId0mhnHcG3OQ=s64",
      "userId": "16626673966734884347"
     },
     "user_tz": -180
    },
    "id": "Frb8dSBeBYhv",
    "outputId": "5714ba4a-f6f9-4f24-b940-97dd6d3a4851"
   },
   "outputs": [
    {
     "data": {
      "text/plain": [
       "<All keys matched successfully>"
      ]
     },
     "execution_count": 12,
     "metadata": {},
     "output_type": "execute_result"
    }
   ],
   "source": [
    "# Когда модель обучена и веса сохранены, для её тестирования импортируем их из файла\n",
    "model.load_state_dict(torch.load('/content/drive/MyDrive/Eyes_test_case/weights.pt', map_location=torch.device('cpu')))"
   ]
  },
  {
   "cell_type": "code",
   "execution_count": 27,
   "metadata": {
    "colab": {
     "base_uri": "https://localhost:8080/",
     "height": 400
    },
    "executionInfo": {
     "elapsed": 2036,
     "status": "ok",
     "timestamp": 1636490194668,
     "user": {
      "displayName": "Тихомиров Степан",
      "photoUrl": "https://lh3.googleusercontent.com/a-/AOh14GibeqMfKZ_ay-K6XFpA0h8gZ5jEDxId0mhnHcG3OQ=s64",
      "userId": "16626673966734884347"
     },
     "user_tz": -180
    },
    "id": "Y1G7mDHtygEq",
    "outputId": "2566f2eb-667f-416e-a029-b391acd30009"
   },
   "outputs": [
    {
     "data": {
      "image/png": "[encoded data removed]",
      "text/plain": [
       "<Figure size 720x720 with 6 Axes>"
      ]
     },
     "metadata": {
      "needs_background": "light"
     },
     "output_type": "display_data"
    }
   ],
   "source": [
    "# Визуальная проверка качества регрессии на открытых глазах\n",
    "with torch.no_grad():\n",
    "  plt.figure(figsize=(10, 10))\n",
    "  for i in range(6):\n",
    "    z = train_data.__getitem__(i)\n",
    "    points = list(map(float,z[1][:12]))\n",
    "    x = model(z[0].unsqueeze(0).to(device))\n",
    "    y = x.to('cpu').detach().numpy()[0]\n",
    "    plt.subplot(3, 3, i+1)\n",
    "    plt.imshow(z[0].squeeze(), cmap='gray')\n",
    "    plt.plot(y[::2],y[1::2],'ro')\n",
    "    plt.plot(points[::2],points[1::2],'bo')"
   ]
  },
  {
   "cell_type": "code",
   "execution_count": 28,
   "metadata": {
    "colab": {
     "base_uri": "https://localhost:8080/",
     "height": 400
    },
    "executionInfo": {
     "elapsed": 1167,
     "status": "ok",
     "timestamp": 1636490196153,
     "user": {
      "displayName": "Тихомиров Степан",
      "photoUrl": "https://lh3.googleusercontent.com/a-/AOh14GibeqMfKZ_ay-K6XFpA0h8gZ5jEDxId0mhnHcG3OQ=s64",
      "userId": "16626673966734884347"
     },
     "user_tz": -180
    },
    "id": "4O6IvHMkktSl",
    "outputId": "b8bbcc0f-5dc7-498e-f61b-06fea6ef2c32"
   },
   "outputs": [
    {
     "data": {
      "image/png": "[encoded data removed]",
      "text/plain": [
       "<Figure size 720x720 with 6 Axes>"
      ]
     },
     "metadata": {
      "needs_background": "light"
     },
     "output_type": "display_data"
    }
   ],
   "source": [
    "# Визуальная проверка качества регрессии на закрытых глазах\n",
    "with torch.no_grad():\n",
    "  plt.figure(figsize=(10, 10))\n",
    "  for i in range(6):\n",
    "    z = train_data.__getitem__(126+i)\n",
    "    points = list(map(float,z[1][:12]))\n",
    "    x = model(z[0].unsqueeze(0).to(device))\n",
    "    y = x.to('cpu').detach().numpy()[0]\n",
    "    plt.subplot(3, 3, i+1)\n",
    "    plt.imshow(z[0].squeeze(), cmap='gray')\n",
    "    plt.plot(y[::2],y[1::2],'ro')\n",
    "    plt.plot(points[::2],points[1::2],'bo')"
   ]
  },
  {
   "cell_type": "code",
   "execution_count": 13,
   "metadata": {
    "executionInfo": {
     "elapsed": 33,
     "status": "ok",
     "timestamp": 1636530949382,
     "user": {
      "displayName": "Тихомиров Степан",
      "photoUrl": "https://lh3.googleusercontent.com/a-/AOh14GibeqMfKZ_ay-K6XFpA0h8gZ5jEDxId0mhnHcG3OQ=s64",
      "userId": "16626673966734884347"
     },
     "user_tz": -180
    },
    "id": "UH7XuTARmDtd"
   },
   "outputs": [],
   "source": [
    "\"\"\" Расчет метрики EAR - eye_aspect_ratio(eye: list[list]) -> float \"\"\"\n",
    "def eye_aspect_ratio(eye):\n",
    "  A = dist.euclidean(eye[1], eye[5])  # Вычисляем расстояние между центральными точками задающими положение глаз\n",
    "  B = dist.euclidean(eye[2], eye[4])\n",
    "\n",
    "  C = dist.euclidean(eye[0], eye[3])  # Расстояние между крайними точками\n",
    "  ear = (A + B) / (2.0 * (C+0.0000001)) # Eye_Aspect_ratio\n",
    "  return ear"
   ]
  },
  {
   "cell_type": "code",
   "execution_count": 14,
   "metadata": {
    "executionInfo": {
     "elapsed": 14,
     "status": "ok",
     "timestamp": 1636530951479,
     "user": {
      "displayName": "Тихомиров Степан",
      "photoUrl": "https://lh3.googleusercontent.com/a-/AOh14GibeqMfKZ_ay-K6XFpA0h8gZ5jEDxId0mhnHcG3OQ=s64",
      "userId": "16626673966734884347"
     },
     "user_tz": -180
    },
    "id": "bVAp0F5PoNWy"
   },
   "outputs": [],
   "source": [
    "\"\"\" Получаем метку класса по координатам точек глаза - Threshold_separation(outputs: np.array ) -> Boolean \"\"\"\n",
    "def Threshold_separation(outputs): \n",
    "  if eye_aspect_ratio(list(zip(outputs[::2],outputs[1::2]))) < 0.24:  # Отсекаем по значения по порогу 0.24, те что больше открытые, меньше закрытые\n",
    "    return 0\n",
    "  else:\n",
    "    return 1"
   ]
  },
  {
   "cell_type": "code",
   "execution_count": 15,
   "metadata": {
    "executionInfo": {
     "elapsed": 2086,
     "status": "ok",
     "timestamp": 1636530955557,
     "user": {
      "displayName": "Тихомиров Степан",
      "photoUrl": "https://lh3.googleusercontent.com/a-/AOh14GibeqMfKZ_ay-K6XFpA0h8gZ5jEDxId0mhnHcG3OQ=s64",
      "userId": "16626673966734884347"
     },
     "user_tz": -180
    },
    "id": "tZ1FioThw_0u"
   },
   "outputs": [],
   "source": [
    "# Инициализация тестового Dataloader'a \n",
    "test_data_path = \"/content/drive/MyDrive/Eyes_test_case/Points_clf/Test/\"\n",
    "test_data = datasets.ImageFolder(root=test_data_path, transform=transform)\n",
    "batch_size = 16\n",
    "test_data_loader = torch.utils.data.DataLoader(dataset = test_data, batch_size=batch_size)"
   ]
  },
  {
   "cell_type": "code",
   "execution_count": 15,
   "metadata": {
    "colab": {
     "base_uri": "https://localhost:8080/"
    },
    "executionInfo": {
     "elapsed": 1796,
     "status": "ok",
     "timestamp": 1636489889793,
     "user": {
      "displayName": "Тихомиров Степан",
      "photoUrl": "https://lh3.googleusercontent.com/a-/AOh14GibeqMfKZ_ay-K6XFpA0h8gZ5jEDxId0mhnHcG3OQ=s64",
      "userId": "16626673966734884347"
     },
     "user_tz": -180
    },
    "id": "R3A9EO6yxpmz",
    "outputId": "5870c6ae-3387-4fd1-fc4b-f51f33812d21"
   },
   "outputs": [
    {
     "name": "stderr",
     "output_type": "stream",
     "text": [
      "/usr/local/lib/python3.7/dist-packages/torch/nn/functional.py:718: UserWarning: Named tensors and all their associated APIs are an experimental feature and subject to change. Please do not use them for anything important until they are released as stable. (Triggered internally at  /pytorch/c10/core/TensorImpl.h:1156.)\n",
      "  return torch.max_pool2d(input, kernel_size, stride, padding, dilation, ceil_mode)\n"
     ]
    },
    {
     "name": "stdout",
     "output_type": "stream",
     "text": [
      "Accuracy on batch: 1.0\n",
      "Accuracy on batch: 0.875\n",
      "Accuracy on batch: 1.0\n",
      "Accuracy on batch: 1.0\n",
      "Accuracy on batch: 0.875\n",
      "Accuracy on batch: 0.9375\n",
      "Accuracy on batch: 1.0\n",
      "Accuracy on batch: 0.9375\n",
      "Accuracy on batch: 1.0\n",
      "Accuracy on all data: 0.9580419659614563\n"
     ]
    }
   ],
   "source": [
    "#Считаем точность модели на тестовой выборке\n",
    "with torch.no_grad():\n",
    "  for batch in test_data_loader:\n",
    "    inputs, target = batch\n",
    "    inputs.unsqueeze(0)\n",
    "    inputs = inputs.to(device)\n",
    "    target = target.to(device)\n",
    "    output = model(inputs)\n",
    "    target = target.to('cpu')\n",
    "    output = output.to('cpu')\n",
    "    output = output.detach().numpy()\n",
    "    labels = np.array(list(map(Threshold_separation,output)))\n",
    "    test_acc = Test_acc(torch.from_numpy(labels), target)\n",
    "    test_mse = float(MSE(torch.from_numpy(labels), target))\n",
    "    print(f\"Accuracy on batch: {test_acc}\")\n",
    "    #writer.add_scalar('Epoch_MSE/test',epoch_acc)\n",
    "    #writer.add_scalar('Epoch_MSE/test',test_mse)\n",
    "  test_acc = Test_acc.compute()\n",
    "  print(f\"Accuracy on all data: {test_acc}\")"
   ]
  },
  {
   "cell_type": "code",
   "execution_count": 22,
   "metadata": {
    "executionInfo": {
     "elapsed": 301,
     "status": "ok",
     "timestamp": 1636458729743,
     "user": {
      "displayName": "Тихомиров Степан",
      "photoUrl": "https://lh3.googleusercontent.com/a-/AOh14GibeqMfKZ_ay-K6XFpA0h8gZ5jEDxId0mhnHcG3OQ=s64",
      "userId": "16626673966734884347"
     },
     "user_tz": -180
    },
    "id": "SsvOkkvQr8e2"
   },
   "outputs": [],
   "source": [
    "#Сохранение весов модели\n",
    "torch.save(model.state_dict(), '/content/drive/MyDrive/Eyes_test_case/weights.pt')"
   ]
  },
  {
   "cell_type": "code",
   "execution_count": 16,
   "metadata": {
    "executionInfo": {
     "elapsed": 290,
     "status": "ok",
     "timestamp": 1636530963898,
     "user": {
      "displayName": "Тихомиров Степан",
      "photoUrl": "https://lh3.googleusercontent.com/a-/AOh14GibeqMfKZ_ay-K6XFpA0h8gZ5jEDxId0mhnHcG3OQ=s64",
      "userId": "16626673966734884347"
     },
     "user_tz": -180
    },
    "id": "_foycrtJGPrK"
   },
   "outputs": [],
   "source": [
    "\"\"\"  Здесь я заметил, что задача поставлена не совсем такая, необходимо из дистанций\n",
    "получить уверенности, а не метки и по уверенностям считаем нужные метрики\n",
    "\n",
    "\"\"\"\n",
    "# Задаем функцию преобраования из произвольного вещественного, в ограниченное 0 и 1\n",
    "import numpy as np\n",
    "def sigmoid(x):\n",
    "  return 1/(1+np.exp(-350*(x-0.24)))"
   ]
  },
  {
   "cell_type": "code",
   "execution_count": 17,
   "metadata": {
    "executionInfo": {
     "elapsed": 16,
     "status": "ok",
     "timestamp": 1636530965823,
     "user": {
      "displayName": "Тихомиров Степан",
      "photoUrl": "https://lh3.googleusercontent.com/a-/AOh14GibeqMfKZ_ay-K6XFpA0h8gZ5jEDxId0mhnHcG3OQ=s64",
      "userId": "16626673966734884347"
     },
     "user_tz": -180
    },
    "id": "miUQ-m5YWplZ"
   },
   "outputs": [],
   "source": [
    "# По точкам считаем расстояние и выводим из сигмоиды уверенность\n",
    "def points_to_conf(outputs):\n",
    "  return sigmoid(eye_aspect_ratio(list(zip(outputs[::2],outputs[1::2]))))"
   ]
  },
  {
   "cell_type": "code",
   "execution_count": 18,
   "metadata": {
    "colab": {
     "base_uri": "https://localhost:8080/"
    },
    "executionInfo": {
     "elapsed": 30743,
     "status": "ok",
     "timestamp": 1636530997198,
     "user": {
      "displayName": "Тихомиров Степан",
      "photoUrl": "https://lh3.googleusercontent.com/a-/AOh14GibeqMfKZ_ay-K6XFpA0h8gZ5jEDxId0mhnHcG3OQ=s64",
      "userId": "16626673966734884347"
     },
     "user_tz": -180
    },
    "id": "JZt3AKgWwnBT",
    "outputId": "9081b194-5988-43a5-9dc4-8f8e13154caa"
   },
   "outputs": [
    {
     "name": "stderr",
     "output_type": "stream",
     "text": [
      "/usr/local/lib/python3.7/dist-packages/torch/nn/functional.py:718: UserWarning: Named tensors and all their associated APIs are an experimental feature and subject to change. Please do not use them for anything important until they are released as stable. (Triggered internally at  /pytorch/c10/core/TensorImpl.h:1156.)\n",
      "  return torch.max_pool2d(input, kernel_size, stride, padding, dilation, ceil_mode)\n"
     ]
    },
    {
     "name": "stdout",
     "output_type": "stream",
     "text": [
      "0.9498015873015873\n"
     ]
    }
   ],
   "source": [
    "#Cчитаем AUC\n",
    "conf = []\n",
    "tar = []\n",
    "with torch.no_grad():\n",
    "  for batch in test_data_loader:\n",
    "    inputs, target = batch\n",
    "    inputs.unsqueeze(0)\n",
    "    inputs = inputs.to(device)\n",
    "    target = target.to(device)\n",
    "    output = model(inputs)\n",
    "    target = target.to('cpu')\n",
    "    output = output.to('cpu')\n",
    "    output = output.detach().numpy()\n",
    "    for i in np.array(list(map(points_to_conf,output))):\n",
    "      conf.append(i)\n",
    "    for j in target:\n",
    "      tar.append(target[j])\n",
    "test_auc = roc_auc_score(tar,conf)\n",
    "print(test_auc)"
   ]
  },
  {
   "cell_type": "code",
   "execution_count": 30,
   "metadata": {
    "colab": {
     "base_uri": "https://localhost:8080/",
     "height": 295
    },
    "executionInfo": {
     "elapsed": 357,
     "status": "ok",
     "timestamp": 1636490751359,
     "user": {
      "displayName": "Тихомиров Степан",
      "photoUrl": "https://lh3.googleusercontent.com/a-/AOh14GibeqMfKZ_ay-K6XFpA0h8gZ5jEDxId0mhnHcG3OQ=s64",
      "userId": "16626673966734884347"
     },
     "user_tz": -180
    },
    "id": "ImBwON-gcjmN",
    "outputId": "04219ff5-fd91-4e82-8059-9ad9969317e0"
   },
   "outputs": [
    {
     "data": {
      "image/png": "[encoded data removed]",
      "text/plain": [
       "<Figure size 432x288 with 1 Axes>"
      ]
     },
     "metadata": {
      "needs_background": "light"
     },
     "output_type": "display_data"
    }
   ],
   "source": [
    "plt.figure()\n",
    "lw = 2\n",
    "plt.plot(\n",
    "    fpr,\n",
    "    tpr,\n",
    "    color=\"darkorange\",\n",
    "    lw=lw,\n",
    "    label=\"ROC curve (area = %0.2f)\" % roc_auc,\n",
    ")\n",
    "plt.plot([0, 1], [1, 0], color=\"navy\", lw=lw, linestyle=\"--\")\n",
    "plt.xlim([0.0, 1.0])\n",
    "plt.ylim([0.0, 1.05])\n",
    "plt.xlabel(\"False Positive Rate\")\n",
    "plt.ylabel(\"True Positive Rate\")\n",
    "plt.title(\"Receiver operating characteristic example\")\n",
    "plt.legend(loc=\"lower right\")\n",
    "plt.show()"
   ]
  },
  {
   "cell_type": "code",
   "execution_count": 19,
   "metadata": {
    "executionInfo": {
     "elapsed": 97,
     "status": "ok",
     "timestamp": 1636530997202,
     "user": {
      "displayName": "Тихомиров Степан",
      "photoUrl": "https://lh3.googleusercontent.com/a-/AOh14GibeqMfKZ_ay-K6XFpA0h8gZ5jEDxId0mhnHcG3OQ=s64",
      "userId": "16626673966734884347"
     },
     "user_tz": -180
    },
    "id": "hGVL9mSQ8PSK"
   },
   "outputs": [],
   "source": [
    "#Считаем FalsePositiveRate,TruePositiveRate и FalseNegativeRate\n",
    "fpr, tpr, _ = roc_curve(tar,conf)\n",
    "roc_auc = auc(fpr, tpr)\n",
    "fnr = list(map(lambda x : 1 - x, tpr))\n",
    "arg = np.argmin(np.absolute(fnr - fpr))  # Индекс при, котором разница TPR и FNR минимальна"
   ]
  },
  {
   "cell_type": "code",
   "execution_count": 24,
   "metadata": {
    "colab": {
     "base_uri": "https://localhost:8080/"
    },
    "executionInfo": {
     "elapsed": 286,
     "status": "ok",
     "timestamp": 1636531057072,
     "user": {
      "displayName": "Тихомиров Степан",
      "photoUrl": "https://lh3.googleusercontent.com/a-/AOh14GibeqMfKZ_ay-K6XFpA0h8gZ5jEDxId0mhnHcG3OQ=s64",
      "userId": "16626673966734884347"
     },
     "user_tz": -180
    },
    "id": "a9rXhBnl_lch",
    "outputId": "ff0f0450-a65a-43dd-db31-7dff1a31b236"
   },
   "outputs": [
    {
     "name": "stdout",
     "output_type": "stream",
     "text": [
      "0.06349206349206349\n"
     ]
    }
   ],
   "source": [
    "\"\"\"EER - точка, в которой линии FNR и FPR пересекаются. Однако т.к значения массивов FNR и FPR  дискретны,\n",
    "    то мы принимаем EER равным одному из значений в точке где разница минимальна\n",
    "\"\"\"\n",
    "EER = fnr[arg]\n",
    "print(EER)"
   ]
  }
 ],
 "metadata": {
  "colab": {
   "authorship_tag": "ABX9TyOfJcoaA/PsLeEMVYlzN7tf",
   "collapsed_sections": [],
   "mount_file_id": "1ugirYnMjVLyR7wgaygFd4dl5FBiXSBug",
   "name": "EAR_Eye_Classification.ipynb",
   "provenance": []
  },
  "kernelspec": {
   "display_name": "Python 3",
   "language": "python",
   "name": "python3"
  },
  "language_info": {
   "codemirror_mode": {
    "name": "ipython",
    "version": 3
   },
   "file_extension": ".py",
   "mimetype": "text/x-python",
   "name": "python",
   "nbconvert_exporter": "python",
   "pygments_lexer": "ipython3",
   "version": "3.7.6"
  }
 },
 "nbformat": 4,
 "nbformat_minor": 1
}
